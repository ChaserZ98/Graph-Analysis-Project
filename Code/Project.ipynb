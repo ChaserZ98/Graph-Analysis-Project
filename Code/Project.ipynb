{
 "cells": [
  {
   "cell_type": "code",
   "execution_count": 3,
   "metadata": {},
   "outputs": [],
   "source": [
    "import pymysql\n",
    "import prettytable as pt\n",
    "import json\n",
    "import pandas as pd\n",
    "from tqdm import tqdm\n",
    "import csv"
   ]
  },
  {
   "cell_type": "code",
   "execution_count": 27,
   "metadata": {},
   "outputs": [
    {
     "name": "stdout",
     "output_type": "stream",
     "text": [
      "+------------+\n",
      "| database() |\n",
      "+------------+\n",
      "|   cs550    |\n",
      "+------------+\n"
     ]
    }
   ],
   "source": [
    "db = pymysql.connect(\n",
    "    host = 'localhost',\n",
    "    user = 'root',\n",
    "    password = 'mysql'\n",
    ")\n",
    "cursor = db.cursor()\n",
    "cursor.execute(\"create database if not exists cs550\")\n",
    "\n",
    "\n",
    "cursor.execute(\"use cs550\")\n",
    "\n",
    "cursor.execute(\"select database()\")\n",
    "\n",
    "table = pt.from_db_cursor(cursor)\n",
    "print(table)\n",
    "\n",
    "db.close()"
   ]
  },
  {
   "cell_type": "code",
   "execution_count": 108,
   "metadata": {},
   "outputs": [
    {
     "name": "stderr",
     "output_type": "stream",
     "text": [
      "Processing: 100%|█████████▉| 157M/157M [30:48<00:00, 85.1kit/s]   "
     ]
    },
    {
     "name": "stdout",
     "output_type": "stream",
     "text": [
      "{'overall': 'float', 'verified': 'bool', 'reviewTime': ('str', 1, 11), 'reviewerID': ('str', 11586, 20), 'asin': ('str', 0, 10), 'reviewerName': ('str', 28782337, 1725), 'reviewText': ('str', 140467823, 35094), 'summary': ('str', 151619415, 1730), 'unixReviewTime': 'int', 'vote': ('str', 257028, 6), 'image': ('list', 136488683, 508), 'style': ('dict', 2377009, 7)}\n"
     ]
    },
    {
     "name": "stderr",
     "output_type": "stream",
     "text": [
      "\n"
     ]
    }
   ],
   "source": [
    "# simple analysis on review dataset\n",
    "totalReviews = 157260921\n",
    "columns = ['verified', 'image', 'style', 'asin', 'reviewerID', 'overall', 'reviewText', 'reviewTime', 'unixReviewTime', 'summary', 'reviewerName', 'vote']\n",
    "column_dict = dict()\n",
    "style = set()\n",
    "dataPath = \"../Data/All_Amazon_Review_5.json\"\n",
    "with open(dataPath, 'r', encoding=\"utf-8\") as f:\n",
    "    with tqdm(total=totalReviews, desc=\"Processing\", leave=True, unit_scale=True) as pbar:\n",
    "        index = 0\n",
    "        line = f.readline()\n",
    "        while line:\n",
    "            pbar.update(1)\n",
    "            row = json.loads(line)\n",
    "            for key in row.keys():\n",
    "                valueType = type(row[key])\n",
    "                if key not in column_dict:\n",
    "                    if valueType in [list, dict, str]:\n",
    "                        column_dict[key] = (valueType.__name__, index, len(row[key]))\n",
    "                    else:\n",
    "                        column_dict[key] = (valueType.__name__)\n",
    "                else:\n",
    "                    if valueType in [list, dict, str] and len(row[key]) > column_dict[key][2]:\n",
    "                        column_dict[key] = (valueType.__name__, index, len(row[key]))\n",
    "            line = f.readline()\n",
    "            index += 1\n",
    "print(column_dict)"
   ]
  },
  {
   "cell_type": "code",
   "execution_count": 20,
   "metadata": {},
   "outputs": [
    {
     "name": "stderr",
     "output_type": "stream",
     "text": [
      "Processing: 100%|█████████▉| 157M/157M [27:03<00:00, 96.9kit/s]   \n"
     ]
    }
   ],
   "source": [
    "# split dataset example\n",
    "def splitColumns(selectedKeys, dataPath, totalRowNum, outputPath):\n",
    "    with open(outputPath, \"w\", newline=\"\") as outputFile:\n",
    "        writer = csv.DictWriter(outputFile, selectedKeys)\n",
    "        writer.writeheader()\n",
    "        with open(dataPath, encoding=\"utf-8\") as file:\n",
    "            with tqdm(total=totalRowNum, desc=\"Processing\", leave=True, unit_scale=True) as pbar:\n",
    "                line = file.readline()\n",
    "                while line:\n",
    "                    pbar.update(1)\n",
    "                    row = json.loads(line)\n",
    "                    writer.writerow(dict([(key, row[key]) for key in selectedKeys]))\n",
    "                    line = file.readline()\n",
    "\n",
    "totalReviews = 157260921 # total number of reviews\n",
    "dataPath = \"../Data/All_Amazon_Review_5.json\" # input dataset path\n",
    "outputPath = \"../Data/All_Amazon_Review_User_Item_Rating.csv\" # output datset path\n",
    "selectedKeys = ['reviewerID', 'asin', 'overall'] # choose columns to split from dataset\n",
    "splitColumns(selectedKeys, dataPath, totalReviews, outputPath)"
   ]
  },
  {
   "cell_type": "code",
   "execution_count": null,
   "metadata": {},
   "outputs": [],
   "source": [
    "totalMeta = 15023060\n",
    "dataPath = \"../Data/All_Amazon_Review_5.json\""
   ]
  }
 ],
 "metadata": {
  "interpreter": {
   "hash": "fcf1d46d271c46101d6967829d4a5f475342a2ce08e4944f989fbcdc9bb23690"
  },
  "kernelspec": {
   "display_name": "Python 3.9.10 64-bit",
   "language": "python",
   "name": "python3"
  },
  "language_info": {
   "codemirror_mode": {
    "name": "ipython",
    "version": 3
   },
   "file_extension": ".py",
   "mimetype": "text/x-python",
   "name": "python",
   "nbconvert_exporter": "python",
   "pygments_lexer": "ipython3",
   "version": "3.9.10"
  },
  "orig_nbformat": 4
 },
 "nbformat": 4,
 "nbformat_minor": 2
}
