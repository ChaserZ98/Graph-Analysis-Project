{
 "cells": [
  {
   "cell_type": "code",
   "execution_count": null,
   "metadata": {},
   "outputs": [],
   "source": [
    "import os\n",
    "import pandas as pd\n",
    "from matplotlib import pyplot as plt"
   ]
  },
  {
   "cell_type": "code",
   "execution_count": null,
   "metadata": {},
   "outputs": [],
   "source": [
    "data_dir = \"../Data/\""
   ]
  },
  {
   "cell_type": "code",
   "execution_count": null,
   "metadata": {},
   "outputs": [],
   "source": [
    "def plot_rating_frequency(data):\n",
    "    plt.figure(figsize=(7, 7))\n",
    "    plt.hist(data, bins=range(1,7), align='left', rwidth=0.67)\n",
    "    plt.title(\"Frequency of ratings (1-5) in Amazon reviews\")\n",
    "    plt.xlabel(\"Ratings\")\n",
    "    plt.ylabel(\"Frequency\")\n",
    "    plt.show()"
   ]
  },
  {
   "cell_type": "code",
   "execution_count": null,
   "metadata": {},
   "outputs": [],
   "source": [
    "df_user_item_rating = pd.read_csv(os.path.join(data_dir, \"All_Amazon_Review_User_Item_Rating.csv\"))\n",
    "plot_rating_frequency(df_user_item_rating[\"overall\"])"
   ]
  },
  {
   "cell_type": "code",
   "execution_count": null,
   "metadata": {},
   "outputs": [],
   "source": [
    "df_sampled_data = pd.read_csv(os.path.join(data_dir, \"sampled_data.csv\"))\n",
    "plot_rating_frequency(df_sampled_data[\"overall\"])"
   ]
  }
 ],
 "metadata": {
  "language_info": {
   "name": "python"
  },
  "orig_nbformat": 4
 },
 "nbformat": 4,
 "nbformat_minor": 2
}
